{
 "cells": [
  {
   "cell_type": "markdown",
   "metadata": {},
   "source": [
    "Potrebno je u anaconda prompt-u instalirati xgboost s:<br>\n",
    "<code>conda install -c anaconda py-xgboost</code>"
   ]
  },
  {
   "cell_type": "markdown",
   "metadata": {},
   "source": [
    "### Priprema"
   ]
  },
  {
   "cell_type": "code",
   "execution_count": 1,
   "metadata": {},
   "outputs": [],
   "source": [
    "# potrebni paketi\n",
    "import numpy as np\n",
    "import pandas as pd\n",
    "import xgboost as xgb\n",
    "from sklearn.metrics import precision_score\n",
    "from sklearn.metrics import log_loss\n",
    "from sklearn.metrics import accuracy_score\n",
    "from sklearn.model_selection import train_test_split\n",
    "\n",
    "# učitavanje svih značajki iz training skupa\n",
    "features = pd.read_csv(\"https://raw.githubusercontent.com/mateastanisic/lfs/master/merged_all_features.csv\")\n",
    "\n",
    "# učitavanje svih značajki iz testing skupa\n",
    "features_test = pd.read_csv(\"https://raw.githubusercontent.com/mateastanisic/lfs/master/merged_test_features.csv\")"
   ]
  },
  {
   "cell_type": "code",
   "execution_count": 2,
   "metadata": {},
   "outputs": [],
   "source": [
    "one_gram_features = features.iloc[:,2:258]\n",
    "metadata_bytes_features = features.iloc[:,258:260]\n",
    "entropy_features = features.iloc[:,260:462]\n",
    "image_features = features.iloc[:,462:514]\n",
    "string_length_features = features.iloc[:,514:630]\n",
    "metadata_asm_features = features.iloc[:,630:632]\n",
    "symbols_features = features.iloc[:,632:639]\n",
    "opcode_features = features.iloc[:,639:732]\n",
    "reg_features = features.iloc[:,732:758]\n",
    "section_features = features.iloc[:,758:782]\n",
    "dd_features = features.iloc[:,782:806]\n",
    "api_features = features.iloc[:,806:1600]\n",
    "key_features = features.iloc[:,1600:1695]"
   ]
  },
  {
   "cell_type": "markdown",
   "metadata": {},
   "source": [
    "### XGboost"
   ]
  },
  {
   "cell_type": "code",
   "execution_count": 3,
   "metadata": {},
   "outputs": [
    {
     "name": "stdout",
     "output_type": "stream",
     "text": [
      "Precision_score : \n",
      "0.9938086555017404\n",
      "Logloss : \n",
      "0.023918640948757782\n",
      "Accuracy : \n",
      "0.9944802207911684\n"
     ]
    }
   ],
   "source": [
    "#XGboost\n",
    "\n",
    "X=features.iloc[:,2:1695]\n",
    "\n",
    "X_train, X_test, y_train, y_test = train_test_split( X, features['Class'], test_size=0.3, random_state=47)\n",
    "\n",
    "y_train = [int(x-1) for x in y_train]\n",
    "y_test = [int(x-1) for x in y_test]\n",
    "\n",
    "dtrain = xgb.DMatrix(X_train, label=y_train)\n",
    "dtest = xgb.DMatrix(X_test, label=y_test)\n",
    "#print(X_train)\n",
    "#print(y_test)\n",
    "param = {\n",
    "    'max_depth': 3,  # the maximum depth of each tree\n",
    "    'eta': 0.3,  # the training step for each iteration\n",
    "    'silent': 1,  # logging mode - quiet\n",
    "    'objective': 'multi:softprob',  # error evaluation for multiclass training\n",
    "    'num_class': 9}  # the number of classes that exist in this datset\n",
    "num_round = 20  # the number of training iterations\n",
    "\n",
    "bst = xgb.train(param, dtrain, num_round)\n",
    "bst.dump_model('dump.raw.txt')\n",
    "\n",
    "preds = bst.predict(dtest)\n",
    "best_preds = np.asarray([np.argmax(line) for line in preds])\n",
    "\n",
    "score_prec = precision_score(y_test, best_preds, average='macro')\n",
    "print('Precision_score : ')\n",
    "print(score_prec)\n",
    "\n",
    "#print(preds)\n",
    "#print(best_preds)\n",
    "\n",
    "score_log = log_loss(y_test,preds,eps=1e-15)\n",
    "print('Logloss : ')\n",
    "print(score_log)\n",
    "\n",
    "score_acc = accuracy_score(y_test, best_preds)\n",
    "print('Accuracy : ')\n",
    "print(score_acc)"
   ]
  },
  {
   "cell_type": "markdown",
   "metadata": {},
   "source": [
    "### Rezultat sa svim značajkama: <br>\n",
    "Precision_score : <br>\n",
    "0.9938086555017404<br>\n",
    "Logloss : <br>\n",
    "0.023918640948757782<br>\n",
    "Accuracy : <br>\n",
    "0.9944802207911684<br>"
   ]
  },
  {
   "cell_type": "code",
   "execution_count": null,
   "metadata": {},
   "outputs": [],
   "source": []
  }
 ],
 "metadata": {
  "kernelspec": {
   "display_name": "Python 3",
   "language": "python",
   "name": "python3"
  },
  "language_info": {
   "codemirror_mode": {
    "name": "ipython",
    "version": 3
   },
   "file_extension": ".py",
   "mimetype": "text/x-python",
   "name": "python",
   "nbconvert_exporter": "python",
   "pygments_lexer": "ipython3",
   "version": "3.7.6"
  }
 },
 "nbformat": 4,
 "nbformat_minor": 4
}
