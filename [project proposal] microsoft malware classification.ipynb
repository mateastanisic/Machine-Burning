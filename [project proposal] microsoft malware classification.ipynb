{
 "cells": [
  {
   "cell_type": "markdown",
   "metadata": {},
   "source": [
    "# Microsoft malware classification\n",
    "_Klasifikacija zlonamjernog softvera_\n",
    "\n",
    "PRIRODOSLOVNO MATEMATIČKI FAKULTET - MATEMATIČKI ODSJEK<br>\n",
    "Projektni prijedlog iz kolegija Strojno učenje <br>\n",
    "__Travanj 2020.__ <br>\n",
    "\n",
    "_Stanišić Matea, Škrabo Petra, Terzanović Mateja, Tolja Margarita_"
   ]
  },
  {
   "cell_type": "markdown",
   "metadata": {},
   "source": [
    "<br>"
   ]
  },
  {
   "cell_type": "markdown",
   "metadata": {},
   "source": [
    "Jedna od najfinanciranijih i bitnijih IT industrija današnjice zasigurno je ona koja se bavi _malwareima_. Kako se većina zlonamjernog softvera kreira konstantnim (_malicioznim_) mjenjanjem već postojećih _malwarea_, dolazi na važnost njihovo klasificiranje. \n",
    "\n",
    "Ideja za projekt dolazi sa [Kaggle natječaja](https://www.kaggle.com/c/malware-classification/overview) - _Microsoft malware classification_.<br>\n",
    "\n",
    "U ovoj _Jupiter_ bilježnici prikazati ćemo podatke koje je omogućio natječaj. Orginalni podaci veličine su oko pola TB te su podjeljeni u podatke za treniranje i testiranje. Podaci za treniranje algoritma za klasifikaciju imaju specificiranu klasu familije kojoj pripada svaki od _malwarea_. Moguće su sljedeće familije:\n",
    "    1. Ramnit\n",
    "    2. Lollipop\n",
    "    3. Kelihos_ver3\n",
    "    4. Vundo\n",
    "    5. Simba\n",
    "    6. Tracur\n",
    "    7. Kelihos_ver1\n",
    "    8. Obfuscator.ACY\n",
    "    9. Gatak\n",
    "\n",
    "Potrebno je, za svaki _malware_ identificiran jedinstvenim _hash_ kodom iz podataka za testiranje, odrediti kojoj od navedenih klasa pripada. <br> \n",
    "\n",
    "Podaci za svaki _malware_ sastoje se od dvije datoteke:\n",
    " - __.bytes__ koja sadrži heksadecimalnu reprezentaciju binarnog sadržaja _malwarea_\n",
    " - __.asm__ koja sadrži metapodatke izvučene iz binarnih podatataka (npr. korištene funkcije i stringovi u asemblerskom kodu)\n",
    "<br> <br>\n",
    "\n",
    "\n",
    "Primjer dvije linije iz jedne __.bytes__ datoteke:\n",
    "\n",
    "<code>00401000 56 8D 44 24 08 50 8B F1 E8 1C 1B 00 00 C7 06 08\n",
    "00401010 BB 42 00 8B C6 5E C2 04 00 CC CC CC CC CC CC CC</code>\n",
    "\n",
    "Prvi broj, npr <code> 00401000 </code> označava početak adrese desno napisane heksadecimalne reprezentacije binarnog koda u memoriji. Ostale, desne, heksadecimalne vrijednosti predstavljaju važne informacije o samom _malwareu_, npr. instrukcije u kodu. To se može vidjeti i u primjeru nekoliko linija iz jedne __.asm__ datoteke:\n",
    "\n",
    "<code>.text:00401016\t\t\t\t\t\t       ; ---------------------------------------------------------------------------\n",
    ".text:00401019 CC CC CC\tCC CC CC CC\t\t\t\t\t       align 10h\n",
    ".text:00401020 C7 01 08\tBB 42 00\t\t\t\t\t       mov     dword ptr [ecx],\toffset off_42BB08\n",
    ".text:00401026 E9 26 1C\t00 00\t\t\t\t\t\t       jmp     sub_402C51\n",
    ".text:00401026\t\t\t\t\t\t       ; ---------------------------------------------------------------------------</code>\n"
   ]
  },
  {
   "cell_type": "markdown",
   "metadata": {},
   "source": [
    "<br>\n",
    "<br>"
   ]
  },
  {
   "cell_type": "markdown",
   "metadata": {},
   "source": [
    "## Analiza značajki \n",
    "_Features analysis_\n",
    "\n",
    "_KOMENTAR_ \n",
    "[//]: # \"Po uzoru na https://github.com/PMF-StrojnoUcenje2018/Overflow/blob/master/pocetna_analiza.ipynb\""
   ]
  },
  {
   "cell_type": "markdown",
   "metadata": {},
   "source": [
    "Kako orginalni podaci nemaju točno određene _feature_ koje bi upotrijebili u algoritmu za klasificiranje, rudarili smo podatke po uzoru na članak: [_Novel Feature Extraction, Selection and Fusion for Effective Malware Family Classification_](https://www.researchgate.net/publication/283986464_Novel_Feature_Extraction_Selection_and_Fusion_for_Effective_Malware_Family_Classification) korišteći njihov gotovi [kod](https://github.com/ManSoSec/Microsoft-Malware-Challenge) koji su objavili, uz male promjene. Kratka analiza i pregled koda može se vidjeti u [feature_extraction.ipynb]. \n",
    "\n",
    "_KOMENTAR_\n",
    "[//]: # \"Treba dodati link na ovu bbilježnicu\""
   ]
  },
  {
   "cell_type": "markdown",
   "metadata": {},
   "source": [
    "###  _featuri_ dobivene iz __.bytes__ datoteke"
   ]
  },
  {
   "cell_type": "markdown",
   "metadata": {},
   "source": [
    "#### 1 - gram \n",
    "_1G_"
   ]
  },
  {
   "cell_type": "code",
   "execution_count": null,
   "metadata": {},
   "outputs": [],
   "source": [
    "# grafikoni i tablice jednom kad se završi kompresija podataka"
   ]
  },
  {
   "cell_type": "markdown",
   "metadata": {},
   "source": [
    "#### (byte) metadata \n",
    "_MDB_"
   ]
  },
  {
   "cell_type": "code",
   "execution_count": null,
   "metadata": {},
   "outputs": [],
   "source": [
    "# grafikoni i tablice jednom kad se završi kompresija podataka"
   ]
  },
  {
   "cell_type": "markdown",
   "metadata": {},
   "source": [
    "#### entropija\n",
    "_ENT_"
   ]
  },
  {
   "cell_type": "code",
   "execution_count": null,
   "metadata": {},
   "outputs": [],
   "source": [
    "# grafikoni i tablice jednom kad se završi kompresija podataka"
   ]
  },
  {
   "cell_type": "markdown",
   "metadata": {},
   "source": [
    "#### slikovna reprezentacija virusa\n",
    "_IMG_"
   ]
  },
  {
   "cell_type": "code",
   "execution_count": null,
   "metadata": {},
   "outputs": [],
   "source": [
    "# grafikoni i tablice jednom kad se završi kompresija podataka"
   ]
  },
  {
   "cell_type": "markdown",
   "metadata": {},
   "source": [
    "#### duljina stringova\n",
    "_STR_"
   ]
  },
  {
   "cell_type": "code",
   "execution_count": null,
   "metadata": {},
   "outputs": [],
   "source": [
    "# grafikoni i tablice jednom kad se završi kompresija podataka"
   ]
  },
  {
   "cell_type": "markdown",
   "metadata": {},
   "source": [
    "<br>\n",
    "<br>"
   ]
  },
  {
   "cell_type": "markdown",
   "metadata": {},
   "source": [
    "### _featuri_ dobiveni iz .asm datoteke"
   ]
  },
  {
   "cell_type": "markdown",
   "metadata": {},
   "source": [
    "#### (asm) metadata\n",
    "_MDA_"
   ]
  },
  {
   "cell_type": "code",
   "execution_count": null,
   "metadata": {},
   "outputs": [],
   "source": [
    "# grafikoni i tablice jednom kad se završi kompresija podataka"
   ]
  },
  {
   "cell_type": "markdown",
   "metadata": {},
   "source": [
    "#### simboli\n",
    "_SYM_"
   ]
  },
  {
   "cell_type": "code",
   "execution_count": null,
   "metadata": {},
   "outputs": [],
   "source": [
    "# grafikoni i tablice jednom kad se završi kompresija podataka"
   ]
  },
  {
   "cell_type": "markdown",
   "metadata": {},
   "source": [
    "#### opcode\n",
    "_OPC_"
   ]
  },
  {
   "cell_type": "code",
   "execution_count": null,
   "metadata": {},
   "outputs": [],
   "source": [
    "# grafikoni i tablice jednom kad se završi kompresija podataka"
   ]
  },
  {
   "cell_type": "markdown",
   "metadata": {},
   "source": [
    "#### registri\n",
    "_REG_"
   ]
  },
  {
   "cell_type": "code",
   "execution_count": null,
   "metadata": {},
   "outputs": [],
   "source": [
    "# grafikoni i tablice jednom kad se završi kompresija podataka"
   ]
  },
  {
   "cell_type": "markdown",
   "metadata": {},
   "source": [
    "#### API\n",
    "_API_"
   ]
  },
  {
   "cell_type": "code",
   "execution_count": null,
   "metadata": {},
   "outputs": [],
   "source": [
    "# grafikoni i tablice jednom kad se završi kompresija podataka"
   ]
  },
  {
   "cell_type": "markdown",
   "metadata": {},
   "source": [
    "#### sekcije\n",
    "_SEC_"
   ]
  },
  {
   "cell_type": "code",
   "execution_count": null,
   "metadata": {},
   "outputs": [],
   "source": [
    "# grafikoni i tablice jednom kad se završi kompresija podataka"
   ]
  },
  {
   "cell_type": "markdown",
   "metadata": {},
   "source": [
    "#### _data define_\n",
    "_DP_"
   ]
  },
  {
   "cell_type": "code",
   "execution_count": null,
   "metadata": {},
   "outputs": [],
   "source": [
    "# grafikoni i tablice jednom kad se završi kompresija podataka"
   ]
  },
  {
   "cell_type": "markdown",
   "metadata": {},
   "source": [
    "#### ključne riječi\n",
    "_KEYW_"
   ]
  },
  {
   "cell_type": "code",
   "execution_count": null,
   "metadata": {},
   "outputs": [],
   "source": [
    "# grafikoni i tablice jednom kad se završi kompresija podataka"
   ]
  },
  {
   "cell_type": "markdown",
   "metadata": {},
   "source": [
    "<br>\n",
    "<br>"
   ]
  },
  {
   "cell_type": "markdown",
   "metadata": {},
   "source": [
    "## Odabir najznačajnijih značajki\n",
    "_Feature fusion_"
   ]
  },
  {
   "cell_type": "markdown",
   "metadata": {},
   "source": [
    "_KOMENTAR_\n",
    "[//]: # \"Možemo npr ovako https://towardsdatascience.com/feature-selection-techniques-in-machine-learning-with-python-f24e7da3f36e\""
   ]
  },
  {
   "cell_type": "code",
   "execution_count": null,
   "metadata": {},
   "outputs": [],
   "source": [
    "# FEATURE IMPORTANCE\n",
    "# Feature importance is an inbuilt class that comes with Tree Based Classifiers, \n",
    "# we will be using Extra Tree Classifier for extracting the top 10 features for the dataset.\n",
    "\n",
    "import pandas as pd\n",
    "import numpy as np\n",
    "\n",
    "data = pd.read_csv(\"D://Blogs//train.csv\") #path to data\n",
    "X = data.iloc[:,0:20]  #independent columns\n",
    "y = data.iloc[:,-1]    #target column i.e price range\n",
    "from sklearn.ensemble import ExtraTreesClassifier\n",
    "import matplotlib.pyplot as plt\n",
    "model = ExtraTreesClassifier()\n",
    "model.fit(X,y)\n",
    "print(model.feature_importances_) #use inbuilt class feature_importances of tree based classifiers\n",
    "#plot graph of feature importances for better visualization\n",
    "feat_importances = pd.Series(model.feature_importances_, index=X.columns)\n",
    "feat_importances.nlargest(10).plot(kind='barh')\n",
    "plt.show()"
   ]
  }
 ],
 "metadata": {
  "kernelspec": {
   "display_name": "Python 3",
   "language": "python",
   "name": "python3"
  },
  "language_info": {
   "codemirror_mode": {
    "name": "ipython",
    "version": 3
   },
   "file_extension": ".py",
   "mimetype": "text/x-python",
   "name": "python",
   "nbconvert_exporter": "python",
   "pygments_lexer": "ipython3",
   "version": "3.7.3"
  }
 },
 "nbformat": 4,
 "nbformat_minor": 2
}
