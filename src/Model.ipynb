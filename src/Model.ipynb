{
 "cells": [
  {
   "cell_type": "markdown",
   "metadata": {},
   "source": [
    "<h1><center> MODEL </center></h1>"
   ]
  },
  {
   "cell_type": "markdown",
   "metadata": {},
   "source": [
    " <center>\n",
    "    <h1><center>Microsoft malware classification</center></h1>\n",
    "    <i>Klasifikacija zlonamjernog softvera</i> \n",
    "    <br><br>\n",
    "    PRIRODOSLOVNO MATEMATIČKI FAKULTET - MATEMATIČKI ODSJEK <br>\n",
    "    <b>Lipanj 2020.</b> \n",
    "    <br><br>\n",
    "    <i>Stanišić Matea, Škrabo Petra, Terzanović Mateja, Tolja Margarita</i>  \n",
    "</center>\n",
    "\n",
    "***"
   ]
  },
  {
   "cell_type": "markdown",
   "metadata": {},
   "source": [
    "[comment]: <> (Paketi koje je potrebno instalirati prije pokretanja bilježnice: <br>)\n",
    "[comment]: <> (<code>conda install -c anaconda py-xgboost</code> <br>)\n",
    "[comment]: <> (<code>conda install -c conda-forge imbalanced-learn</code>)"
   ]
  },
  {
   "cell_type": "code",
   "execution_count": 23,
   "metadata": {},
   "outputs": [],
   "source": [
    "# packages\n",
    "import numpy as np\n",
    "from numpy import mean\n",
    "from numpy import std\n",
    "from numpy import loadtxt\n",
    "import pickle\n",
    "import pandas as pd\n",
    "import matplotlib.pyplot as plt\n",
    "import matplotlib.cm as cm\n",
    "from matplotlib import pyplot\n",
    "from IPython.core.pylabtools import figsize\n",
    "from collections import Counter\n",
    "import random\n",
    "\n",
    "import xgboost as xgb\n",
    "from xgboost import XGBClassifier\n",
    "from sklearn.metrics import precision_score, log_loss, accuracy_score\n",
    "from sklearn.model_selection import train_test_split, cross_val_score, RepeatedStratifiedKFold, StratifiedKFold, RandomizedSearchCV\n",
    "from sklearn.ensemble import RandomForestClassifier, ExtraTreesClassifier, BaggingClassifier\n",
    "from sklearn.metrics import confusion_matrix\n",
    "from sklearn.utils import class_weight\n",
    "\n",
    "from imblearn.over_sampling import RandomOverSampler, SMOTE, ADASYN\n",
    "from imblearn.under_sampling import RandomUnderSampler\n",
    "\n",
    "import warnings\n",
    "warnings.filterwarnings(\"ignore\", category=RuntimeWarning)"
   ]
  },
  {
   "cell_type": "code",
   "execution_count": 3,
   "metadata": {},
   "outputs": [],
   "source": [
    "# load all train features, and data md5hash ids\n",
    "md5hash_train = pd.read_csv(\"https://raw.githubusercontent.com/mateastanisic/lfs/master/md5hash_train.csv\")\n",
    "features_train_with_filled_NaN_without_id = pd.read_csv(\"https://raw.githubusercontent.com/mateastanisic/lfs/master/features_train_with_filled_NaN_without_id.csv\")\n",
    "\n",
    "# load all test features, and data md5hash ids\n",
    "md5hash_test = pd.read_csv(\"https://raw.githubusercontent.com/mateastanisic/lfs/master/md5hash_test.csv\")\n",
    "features_test_with_filled_NaN_without_id = pd.read_csv(\"https://raw.githubusercontent.com/mateastanisic/lfs/master/features_test_with_filled_NaN_without_id.csv\")\n",
    "\n",
    "# load train data malware classes\n",
    "malware_classes_train = pd.read_csv(\"https://raw.githubusercontent.com/mateastanisic/lfs/master/malware_classes_train.csv\")"
   ]
  },
  {
   "cell_type": "code",
   "execution_count": 4,
   "metadata": {},
   "outputs": [],
   "source": [
    "# load features from train and test dataset given using rfecv\n",
    "selected_features_train = pd.read_csv(\"https://raw.githubusercontent.com/mateastanisic/lfs/master/selected%20features/rfc/selected_features_rfc_train_cv2_186.csv\")\n",
    "selected_features_test = pd.read_csv(\"https://raw.githubusercontent.com/mateastanisic/lfs/master/selected%20features/rfc/selected_features_rfc_test_cv2_186.csv\")\n",
    "\n",
    "# load table with feature names and their scores, sorted\n",
    "features_and_importances = pd.read_csv(\"https://raw.githubusercontent.com/mateastanisic/lfs/master/selected%20features/rfc/rfecv_cv2_186_feature_selected_with_names_and_importance_scores_sorted.csv\")"
   ]
  },
  {
   "cell_type": "code",
   "execution_count": 13,
   "metadata": {
    "scrolled": true
   },
   "outputs": [
    {
     "data": {
      "text/html": [
       "<div>\n",
       "<style scoped>\n",
       "    .dataframe tbody tr th:only-of-type {\n",
       "        vertical-align: middle;\n",
       "    }\n",
       "\n",
       "    .dataframe tbody tr th {\n",
       "        vertical-align: top;\n",
       "    }\n",
       "\n",
       "    .dataframe thead th {\n",
       "        text-align: right;\n",
       "    }\n",
       "</style>\n",
       "<table border=\"1\" class=\"dataframe\">\n",
       "  <thead>\n",
       "    <tr style=\"text-align: right;\">\n",
       "      <th></th>\n",
       "      <th>feature_name</th>\n",
       "      <th>feature_importance</th>\n",
       "    </tr>\n",
       "  </thead>\n",
       "  <tbody>\n",
       "    <tr>\n",
       "      <th>0</th>\n",
       "      <td>_allmul</td>\n",
       "      <td>0.025009</td>\n",
       "    </tr>\n",
       "    <tr>\n",
       "      <th>1</th>\n",
       "      <td>ent_q_diff_diffs_1_min</td>\n",
       "      <td>0.024926</td>\n",
       "    </tr>\n",
       "    <tr>\n",
       "      <th>2</th>\n",
       "      <td>ent_q_diff_diffs_1_median</td>\n",
       "      <td>0.021725</td>\n",
       "    </tr>\n",
       "    <tr>\n",
       "      <th>3</th>\n",
       "      <td>GetStringTypeA</td>\n",
       "      <td>0.021289</td>\n",
       "    </tr>\n",
       "    <tr>\n",
       "      <th>4</th>\n",
       "      <td>byte_1G_a2</td>\n",
       "      <td>0.019825</td>\n",
       "    </tr>\n",
       "  </tbody>\n",
       "</table>\n",
       "</div>"
      ],
      "text/plain": [
       "                feature_name  feature_importance\n",
       "0                    _allmul            0.025009\n",
       "1     ent_q_diff_diffs_1_min            0.024926\n",
       "2  ent_q_diff_diffs_1_median            0.021725\n",
       "3             GetStringTypeA            0.021289\n",
       "4                 byte_1G_a2            0.019825"
      ]
     },
     "execution_count": 13,
     "metadata": {},
     "output_type": "execute_result"
    }
   ],
   "source": [
    "features_and_importances.head()"
   ]
  },
  {
   "cell_type": "code",
   "execution_count": 17,
   "metadata": {},
   "outputs": [],
   "source": [
    "# groups of features\n",
    "one_gram_features = features_train_with_filled_NaN_without_id.iloc[:,:256]\n",
    "metadata_bytes_features = features_train_with_filled_NaN_without_id.iloc[:,256:258]\n",
    "entropy_features = features_train_with_filled_NaN_without_id.iloc[:,258:460]\n",
    "image_features = features_train_with_filled_NaN_without_id.iloc[:,460:512]\n",
    "string_length_features = features_train_with_filled_NaN_without_id.iloc[:,512:628]\n",
    "metadata_asm_features = features_train_with_filled_NaN_without_id.iloc[:,628:630]\n",
    "symbols_features = features_train_with_filled_NaN_without_id.iloc[:,630:637]\n",
    "opcode_features = features_train_with_filled_NaN_without_id.iloc[:,637:730]\n",
    "reg_features = features_train_with_filled_NaN_without_id.iloc[:,730:756]\n",
    "section_features = features_train_with_filled_NaN_without_id.iloc[:,756:780]\n",
    "dd_features = features_train_with_filled_NaN_without_id.iloc[:,780:804]\n",
    "api_features = features_train_with_filled_NaN_without_id.iloc[:,804:1598]\n",
    "key_features = features_train_with_filled_NaN_without_id.iloc[:,1598:1693]"
   ]
  },
  {
   "cell_type": "code",
   "execution_count": 20,
   "metadata": {},
   "outputs": [],
   "source": [
    "# split data into train and test\n",
    "X_train, X_test, y_train, y_test = train_test_split(features_train_with_filled_NaN_without_id, malware_classes_train.values.ravel(), test_size=0.3, random_state=40)"
   ]
  },
  {
   "cell_type": "markdown",
   "metadata": {},
   "source": [
    "<br>\n",
    "\n",
    "## XGBClassifier"
   ]
  },
  {
   "cell_type": "code",
   "execution_count": 24,
   "metadata": {},
   "outputs": [],
   "source": [
    "#Load model\n",
    "filename = 'rfecv_rf_cv5_original_features.sav'\n",
    "rfecv_rf_cv5_original_features = pickle.load(open(filename, 'rb'))"
   ]
  },
  {
   "cell_type": "code",
   "execution_count": 25,
   "metadata": {},
   "outputs": [
    {
     "data": {
      "text/plain": [
       "{'cv': StratifiedKFold(n_splits=5, random_state=None, shuffle=False),\n",
       " 'estimator__bootstrap': True,\n",
       " 'estimator__ccp_alpha': 0.0,\n",
       " 'estimator__class_weight': None,\n",
       " 'estimator__criterion': 'gini',\n",
       " 'estimator__max_depth': None,\n",
       " 'estimator__max_features': 'auto',\n",
       " 'estimator__max_leaf_nodes': None,\n",
       " 'estimator__max_samples': None,\n",
       " 'estimator__min_impurity_decrease': 0.0,\n",
       " 'estimator__min_impurity_split': None,\n",
       " 'estimator__min_samples_leaf': 1,\n",
       " 'estimator__min_samples_split': 2,\n",
       " 'estimator__min_weight_fraction_leaf': 0.0,\n",
       " 'estimator__n_estimators': 100,\n",
       " 'estimator__n_jobs': 4,\n",
       " 'estimator__oob_score': False,\n",
       " 'estimator__random_state': 0,\n",
       " 'estimator__verbose': 0,\n",
       " 'estimator__warm_start': False,\n",
       " 'estimator': RandomForestClassifier(bootstrap=True, ccp_alpha=0.0, class_weight=None,\n",
       "                        criterion='gini', max_depth=None, max_features='auto',\n",
       "                        max_leaf_nodes=None, max_samples=None,\n",
       "                        min_impurity_decrease=0.0, min_impurity_split=None,\n",
       "                        min_samples_leaf=1, min_samples_split=2,\n",
       "                        min_weight_fraction_leaf=0.0, n_estimators=100, n_jobs=4,\n",
       "                        oob_score=False, random_state=0, verbose=0,\n",
       "                        warm_start=False),\n",
       " 'min_features_to_select': 1,\n",
       " 'n_jobs': None,\n",
       " 'scoring': 'accuracy',\n",
       " 'step': 1,\n",
       " 'verbose': 0}"
      ]
     },
     "execution_count": 25,
     "metadata": {},
     "output_type": "execute_result"
    }
   ],
   "source": [
    "rfecv_rf_cv5_original_features.get_params()"
   ]
  },
  {
   "cell_type": "code",
   "execution_count": 21,
   "metadata": {},
   "outputs": [
    {
     "data": {
      "text/plain": [
       "{'base_score': 0.5,\n",
       " 'booster': 'gbtree',\n",
       " 'colsample_bylevel': 1,\n",
       " 'colsample_bynode': 1,\n",
       " 'colsample_bytree': 1,\n",
       " 'gamma': 0,\n",
       " 'learning_rate': 0.1,\n",
       " 'max_delta_step': 0,\n",
       " 'max_depth': 3,\n",
       " 'min_child_weight': 1,\n",
       " 'missing': None,\n",
       " 'n_estimators': 100,\n",
       " 'n_jobs': 1,\n",
       " 'nthread': None,\n",
       " 'objective': 'binary:logistic',\n",
       " 'random_state': 0,\n",
       " 'reg_alpha': 0,\n",
       " 'reg_lambda': 1,\n",
       " 'scale_pos_weight': 1,\n",
       " 'seed': None,\n",
       " 'silent': None,\n",
       " 'subsample': 1,\n",
       " 'verbosity': 1}"
      ]
     },
     "execution_count": 21,
     "metadata": {},
     "output_type": "execute_result"
    }
   ],
   "source": [
    "XGBClassifier().get_params()"
   ]
  },
  {
   "cell_type": "code",
   "execution_count": null,
   "metadata": {},
   "outputs": [],
   "source": []
  },
  {
   "cell_type": "code",
   "execution_count": null,
   "metadata": {},
   "outputs": [],
   "source": []
  }
 ],
 "metadata": {
  "kernelspec": {
   "display_name": "Python 3",
   "language": "python",
   "name": "python3"
  },
  "language_info": {
   "codemirror_mode": {
    "name": "ipython",
    "version": 3
   },
   "file_extension": ".py",
   "mimetype": "text/x-python",
   "name": "python",
   "nbconvert_exporter": "python",
   "pygments_lexer": "ipython3",
   "version": "3.7.6"
  }
 },
 "nbformat": 4,
 "nbformat_minor": 4
}
